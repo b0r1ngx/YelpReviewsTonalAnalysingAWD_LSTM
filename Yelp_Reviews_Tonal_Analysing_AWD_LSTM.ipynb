{
  "nbformat": 4,
  "nbformat_minor": 0,
  "metadata": {
    "colab": {
      "provenance": [],
      "gpuType": "T4",
      "authorship_tag": "ABX9TyMojLLFq2Ho6xw+dQcN9mXf",
      "include_colab_link": true
    },
    "kernelspec": {
      "name": "python3",
      "display_name": "Python 3"
    },
    "language_info": {
      "name": "python"
    },
    "accelerator": "GPU"
  },
  "cells": [
    {
      "cell_type": "markdown",
      "metadata": {
        "id": "view-in-github",
        "colab_type": "text"
      },
      "source": [
        "<a href=\"https://colab.research.google.com/github/b0r1ngx/YelpReviewsTonalAnalysingAWD_LSTM/blob/master/Yelp_Reviews_Tonal_Analysing_AWD_LSTM.ipynb\" target=\"_parent\"><img src=\"https://colab.research.google.com/assets/colab-badge.svg\" alt=\"Open In Colab\"/></a>"
      ]
    },
    {
      "cell_type": "code",
      "execution_count": null,
      "metadata": {
        "colab": {
          "base_uri": "https://localhost:8080/"
        },
        "id": "gejgj9FTKtY1",
        "outputId": "cc95ab40-32dd-46bd-d5aa-c266188eb2e7"
      },
      "outputs": [
        {
          "output_type": "execute_result",
          "data": {
            "text/plain": [
              "device(type='cuda', index=0)"
            ]
          },
          "metadata": {},
          "execution_count": 2
        }
      ],
      "source": [
        "from fastai.text.all import *\n",
        "# torch.cuda.set_device('cuda:0')\n",
        "default_device()"
      ]
    },
    {
      "cell_type": "markdown",
      "source": [
        "Pick T4 GPU"
      ],
      "metadata": {
        "id": "fNop_KtikL8z"
      }
    },
    {
      "cell_type": "markdown",
      "source": [
        "Download Yelp Reviews"
      ],
      "metadata": {
        "id": "qbf0IJKeNWal"
      }
    },
    {
      "cell_type": "code",
      "source": [
        "path = untar_data(URLs.YELP_REVIEWS)"
      ],
      "metadata": {
        "colab": {
          "base_uri": "https://localhost:8080/",
          "height": 37
        },
        "id": "ZxpUIy1_K6jw",
        "outputId": "b1c29ac0-8bf7-409e-b5ac-58bdbf9b3c95"
      },
      "execution_count": null,
      "outputs": [
        {
          "output_type": "display_data",
          "data": {
            "text/plain": [
              "<IPython.core.display.HTML object>"
            ],
            "text/html": [
              "\n",
              "<style>\n",
              "    /* Turns off some styling */\n",
              "    progress {\n",
              "        /* gets rid of default border in Firefox and Opera. */\n",
              "        border: none;\n",
              "        /* Needs to be in here for Safari polyfill so background images work as expected. */\n",
              "        background-size: auto;\n",
              "    }\n",
              "    progress:not([value]), progress:not([value])::-webkit-progress-bar {\n",
              "        background: repeating-linear-gradient(45deg, #7e7e7e, #7e7e7e 10px, #5c5c5c 10px, #5c5c5c 20px);\n",
              "    }\n",
              "    .progress-bar-interrupted, .progress-bar-interrupted::-webkit-progress-bar {\n",
              "        background: #F44336;\n",
              "    }\n",
              "</style>\n"
            ]
          },
          "metadata": {}
        },
        {
          "output_type": "display_data",
          "data": {
            "text/plain": [
              "<IPython.core.display.HTML object>"
            ],
            "text/html": [
              "\n",
              "    <div>\n",
              "      <progress value='196149248' class='' max='196146755' style='width:300px; height:20px; vertical-align: middle;'></progress>\n",
              "      100.00% [196149248/196146755 00:04&lt;00:00]\n",
              "    </div>\n",
              "    "
            ]
          },
          "metadata": {}
        }
      ]
    },
    {
      "cell_type": "markdown",
      "source": [
        "Show what data we have"
      ],
      "metadata": {
        "id": "bX9Y_amZNaTy"
      }
    },
    {
      "cell_type": "code",
      "source": [
        "path.ls()"
      ],
      "metadata": {
        "colab": {
          "base_uri": "https://localhost:8080/"
        },
        "id": "PjKruYksMOJ9",
        "outputId": "07cb2c6b-52f8-4986-bd3e-cfe24b50849d"
      },
      "execution_count": null,
      "outputs": [
        {
          "output_type": "execute_result",
          "data": {
            "text/plain": [
              "(#3) [Path('/root/.fastai/data/yelp_review_full_csv/train.csv'),Path('/root/.fastai/data/yelp_review_full_csv/test.csv'),Path('/root/.fastai/data/yelp_review_full_csv/readme.txt')]"
            ]
          },
          "metadata": {},
          "execution_count": 4
        }
      ]
    },
    {
      "cell_type": "code",
      "source": [
        "train_path = 'train.csv'\n",
        "test_path = 'test.csv'\n",
        "readme = 'readme.txt'"
      ],
      "metadata": {
        "id": "2GvF4rreNfGA"
      },
      "execution_count": null,
      "outputs": []
    },
    {
      "cell_type": "markdown",
      "source": [
        "Take only part of it, cos google doesn't have enough RAM for us"
      ],
      "metadata": {
        "id": "OqY20-FOgV0J"
      }
    },
    {
      "cell_type": "code",
      "source": [
        "data = pd.read_csv(path/train_path, nrows=150000)\n",
        "data.head()"
      ],
      "metadata": {
        "colab": {
          "base_uri": "https://localhost:8080/",
          "height": 623
        },
        "id": "RSqpASJUN8v1",
        "outputId": "da762365-55b9-46e9-cd55-d4b242d950e8"
      },
      "execution_count": null,
      "outputs": [
        {
          "output_type": "execute_result",
          "data": {
            "text/plain": [
              "   5  \\\n",
              "0  2   \n",
              "1  4   \n",
              "2  4   \n",
              "3  1   \n",
              "4  5   \n",
              "\n",
              "                                                                    dr. goldberg offers everything i look for in a general practitioner.  he's nice and easy to talk to without being patronizing; he's always on time in seeing his patients; he's affiliated with a top-notch hospital (nyu) which my parents have explained to me is very important in case something happens and you need surgery; and you can get referrals to see specialists without having to see him first.  really, what more do you need?  i'm sitting here trying to think of any complaints i have about him, but i'm really drawing a blank.  \n",
              "0  Unfortunately, the frustration of being Dr. Goldberg's patient is a repeat of the experience I've had with so many other doctors in NYC -- good doctor, terrible staff.  It seems that his staff simply never answers the phone.  It usually takes 2 hours of repeated calling to get an answer.  Who has time for that or wants to deal with it?  I have run into this problem with many other doctors and I just don't get it.  You have office workers, you have patients with medical needs, why isn't anyone answering the phone?  It's incomprehensible and not work the aggravation.  It's with regret that I...  \n",
              "1                                                                                                          Been going to Dr. Goldberg for over 10 years. I think I was one of his 1st patients when he started at MHMG. He's been great over the years and is really all about the big picture. It is because of him, not my now former gyn Dr. Markoff, that I found out I have fibroids. He explores all options with you and is very patient and understanding. He doesn't judge and asks all the right questions. Very thorough and wants to be kept in the loop on every aspect of your medical health and your life.  \n",
              "2                                                                                                                                                                                                                                                                                                                                                    Got a letter in the mail last week that said Dr. Goldberg is moving to Arizona to take a new position there in June.  He will be missed very much.  \\n\\nI think finding a new doctor in NYC that you actually like might almost be as awful as trying to find a date!  \n",
              "3  I don't know what Dr. Goldberg was like before  moving to Arizona, but let me tell you, STAY AWAY from this doctor and this office. I was going to Dr. Johnson before he left and Goldberg took over when Johnson left. He is not a caring doctor. He is only interested in the co-pay and having you come in for medication refills every month. He will not give refills and could less about patients's financial situations. Trying to get your 90 days mail away pharmacy prescriptions through this guy is a joke. And to make matters even worse, his office staff is incompetent. 90% of the time when you c...  \n",
              "4                                                                                                                                                                                                                                                                                             Top notch doctor in a top notch practice. Can't say I am surprised when I was referred to him by another doctor who I think is wonderful and because he went to one of the best medical schools in the country. \\nIt is really easy to get an appointment. There is minimal wait to be seen and his bedside manner is great.  "
            ],
            "text/html": [
              "\n",
              "  <div id=\"df-538abad4-5d74-47fc-bd10-cbb2bfa46766\" class=\"colab-df-container\">\n",
              "    <div>\n",
              "<style scoped>\n",
              "    .dataframe tbody tr th:only-of-type {\n",
              "        vertical-align: middle;\n",
              "    }\n",
              "\n",
              "    .dataframe tbody tr th {\n",
              "        vertical-align: top;\n",
              "    }\n",
              "\n",
              "    .dataframe thead th {\n",
              "        text-align: right;\n",
              "    }\n",
              "</style>\n",
              "<table border=\"1\" class=\"dataframe\">\n",
              "  <thead>\n",
              "    <tr style=\"text-align: right;\">\n",
              "      <th></th>\n",
              "      <th>5</th>\n",
              "      <th>dr. goldberg offers everything i look for in a general practitioner.  he's nice and easy to talk to without being patronizing; he's always on time in seeing his patients; he's affiliated with a top-notch hospital (nyu) which my parents have explained to me is very important in case something happens and you need surgery; and you can get referrals to see specialists without having to see him first.  really, what more do you need?  i'm sitting here trying to think of any complaints i have about him, but i'm really drawing a blank.</th>\n",
              "    </tr>\n",
              "  </thead>\n",
              "  <tbody>\n",
              "    <tr>\n",
              "      <th>0</th>\n",
              "      <td>2</td>\n",
              "      <td>Unfortunately, the frustration of being Dr. Goldberg's patient is a repeat of the experience I've had with so many other doctors in NYC -- good doctor, terrible staff.  It seems that his staff simply never answers the phone.  It usually takes 2 hours of repeated calling to get an answer.  Who has time for that or wants to deal with it?  I have run into this problem with many other doctors and I just don't get it.  You have office workers, you have patients with medical needs, why isn't anyone answering the phone?  It's incomprehensible and not work the aggravation.  It's with regret that I...</td>\n",
              "    </tr>\n",
              "    <tr>\n",
              "      <th>1</th>\n",
              "      <td>4</td>\n",
              "      <td>Been going to Dr. Goldberg for over 10 years. I think I was one of his 1st patients when he started at MHMG. He's been great over the years and is really all about the big picture. It is because of him, not my now former gyn Dr. Markoff, that I found out I have fibroids. He explores all options with you and is very patient and understanding. He doesn't judge and asks all the right questions. Very thorough and wants to be kept in the loop on every aspect of your medical health and your life.</td>\n",
              "    </tr>\n",
              "    <tr>\n",
              "      <th>2</th>\n",
              "      <td>4</td>\n",
              "      <td>Got a letter in the mail last week that said Dr. Goldberg is moving to Arizona to take a new position there in June.  He will be missed very much.  \\n\\nI think finding a new doctor in NYC that you actually like might almost be as awful as trying to find a date!</td>\n",
              "    </tr>\n",
              "    <tr>\n",
              "      <th>3</th>\n",
              "      <td>1</td>\n",
              "      <td>I don't know what Dr. Goldberg was like before  moving to Arizona, but let me tell you, STAY AWAY from this doctor and this office. I was going to Dr. Johnson before he left and Goldberg took over when Johnson left. He is not a caring doctor. He is only interested in the co-pay and having you come in for medication refills every month. He will not give refills and could less about patients's financial situations. Trying to get your 90 days mail away pharmacy prescriptions through this guy is a joke. And to make matters even worse, his office staff is incompetent. 90% of the time when you c...</td>\n",
              "    </tr>\n",
              "    <tr>\n",
              "      <th>4</th>\n",
              "      <td>5</td>\n",
              "      <td>Top notch doctor in a top notch practice. Can't say I am surprised when I was referred to him by another doctor who I think is wonderful and because he went to one of the best medical schools in the country. \\nIt is really easy to get an appointment. There is minimal wait to be seen and his bedside manner is great.</td>\n",
              "    </tr>\n",
              "  </tbody>\n",
              "</table>\n",
              "</div>\n",
              "    <div class=\"colab-df-buttons\">\n",
              "\n",
              "  <div class=\"colab-df-container\">\n",
              "    <button class=\"colab-df-convert\" onclick=\"convertToInteractive('df-538abad4-5d74-47fc-bd10-cbb2bfa46766')\"\n",
              "            title=\"Convert this dataframe to an interactive table.\"\n",
              "            style=\"display:none;\">\n",
              "\n",
              "  <svg xmlns=\"http://www.w3.org/2000/svg\" height=\"24px\" viewBox=\"0 -960 960 960\">\n",
              "    <path d=\"M120-120v-720h720v720H120Zm60-500h600v-160H180v160Zm220 220h160v-160H400v160Zm0 220h160v-160H400v160ZM180-400h160v-160H180v160Zm440 0h160v-160H620v160ZM180-180h160v-160H180v160Zm440 0h160v-160H620v160Z\"/>\n",
              "  </svg>\n",
              "    </button>\n",
              "\n",
              "  <style>\n",
              "    .colab-df-container {\n",
              "      display:flex;\n",
              "      gap: 12px;\n",
              "    }\n",
              "\n",
              "    .colab-df-convert {\n",
              "      background-color: #E8F0FE;\n",
              "      border: none;\n",
              "      border-radius: 50%;\n",
              "      cursor: pointer;\n",
              "      display: none;\n",
              "      fill: #1967D2;\n",
              "      height: 32px;\n",
              "      padding: 0 0 0 0;\n",
              "      width: 32px;\n",
              "    }\n",
              "\n",
              "    .colab-df-convert:hover {\n",
              "      background-color: #E2EBFA;\n",
              "      box-shadow: 0px 1px 2px rgba(60, 64, 67, 0.3), 0px 1px 3px 1px rgba(60, 64, 67, 0.15);\n",
              "      fill: #174EA6;\n",
              "    }\n",
              "\n",
              "    .colab-df-buttons div {\n",
              "      margin-bottom: 4px;\n",
              "    }\n",
              "\n",
              "    [theme=dark] .colab-df-convert {\n",
              "      background-color: #3B4455;\n",
              "      fill: #D2E3FC;\n",
              "    }\n",
              "\n",
              "    [theme=dark] .colab-df-convert:hover {\n",
              "      background-color: #434B5C;\n",
              "      box-shadow: 0px 1px 3px 1px rgba(0, 0, 0, 0.15);\n",
              "      filter: drop-shadow(0px 1px 2px rgba(0, 0, 0, 0.3));\n",
              "      fill: #FFFFFF;\n",
              "    }\n",
              "  </style>\n",
              "\n",
              "    <script>\n",
              "      const buttonEl =\n",
              "        document.querySelector('#df-538abad4-5d74-47fc-bd10-cbb2bfa46766 button.colab-df-convert');\n",
              "      buttonEl.style.display =\n",
              "        google.colab.kernel.accessAllowed ? 'block' : 'none';\n",
              "\n",
              "      async function convertToInteractive(key) {\n",
              "        const element = document.querySelector('#df-538abad4-5d74-47fc-bd10-cbb2bfa46766');\n",
              "        const dataTable =\n",
              "          await google.colab.kernel.invokeFunction('convertToInteractive',\n",
              "                                                    [key], {});\n",
              "        if (!dataTable) return;\n",
              "\n",
              "        const docLinkHtml = 'Like what you see? Visit the ' +\n",
              "          '<a target=\"_blank\" href=https://colab.research.google.com/notebooks/data_table.ipynb>data table notebook</a>'\n",
              "          + ' to learn more about interactive tables.';\n",
              "        element.innerHTML = '';\n",
              "        dataTable['output_type'] = 'display_data';\n",
              "        await google.colab.output.renderOutput(dataTable, element);\n",
              "        const docLink = document.createElement('div');\n",
              "        docLink.innerHTML = docLinkHtml;\n",
              "        element.appendChild(docLink);\n",
              "      }\n",
              "    </script>\n",
              "  </div>\n",
              "\n",
              "\n",
              "<div id=\"df-87f60f6c-96f8-4b9e-a31b-a4411ca7df5c\">\n",
              "  <button class=\"colab-df-quickchart\" onclick=\"quickchart('df-87f60f6c-96f8-4b9e-a31b-a4411ca7df5c')\"\n",
              "            title=\"Suggest charts.\"\n",
              "            style=\"display:none;\">\n",
              "\n",
              "<svg xmlns=\"http://www.w3.org/2000/svg\" height=\"24px\"viewBox=\"0 0 24 24\"\n",
              "     width=\"24px\">\n",
              "    <g>\n",
              "        <path d=\"M19 3H5c-1.1 0-2 .9-2 2v14c0 1.1.9 2 2 2h14c1.1 0 2-.9 2-2V5c0-1.1-.9-2-2-2zM9 17H7v-7h2v7zm4 0h-2V7h2v10zm4 0h-2v-4h2v4z\"/>\n",
              "    </g>\n",
              "</svg>\n",
              "  </button>\n",
              "\n",
              "<style>\n",
              "  .colab-df-quickchart {\n",
              "      --bg-color: #E8F0FE;\n",
              "      --fill-color: #1967D2;\n",
              "      --hover-bg-color: #E2EBFA;\n",
              "      --hover-fill-color: #174EA6;\n",
              "      --disabled-fill-color: #AAA;\n",
              "      --disabled-bg-color: #DDD;\n",
              "  }\n",
              "\n",
              "  [theme=dark] .colab-df-quickchart {\n",
              "      --bg-color: #3B4455;\n",
              "      --fill-color: #D2E3FC;\n",
              "      --hover-bg-color: #434B5C;\n",
              "      --hover-fill-color: #FFFFFF;\n",
              "      --disabled-bg-color: #3B4455;\n",
              "      --disabled-fill-color: #666;\n",
              "  }\n",
              "\n",
              "  .colab-df-quickchart {\n",
              "    background-color: var(--bg-color);\n",
              "    border: none;\n",
              "    border-radius: 50%;\n",
              "    cursor: pointer;\n",
              "    display: none;\n",
              "    fill: var(--fill-color);\n",
              "    height: 32px;\n",
              "    padding: 0;\n",
              "    width: 32px;\n",
              "  }\n",
              "\n",
              "  .colab-df-quickchart:hover {\n",
              "    background-color: var(--hover-bg-color);\n",
              "    box-shadow: 0 1px 2px rgba(60, 64, 67, 0.3), 0 1px 3px 1px rgba(60, 64, 67, 0.15);\n",
              "    fill: var(--button-hover-fill-color);\n",
              "  }\n",
              "\n",
              "  .colab-df-quickchart-complete:disabled,\n",
              "  .colab-df-quickchart-complete:disabled:hover {\n",
              "    background-color: var(--disabled-bg-color);\n",
              "    fill: var(--disabled-fill-color);\n",
              "    box-shadow: none;\n",
              "  }\n",
              "\n",
              "  .colab-df-spinner {\n",
              "    border: 2px solid var(--fill-color);\n",
              "    border-color: transparent;\n",
              "    border-bottom-color: var(--fill-color);\n",
              "    animation:\n",
              "      spin 1s steps(1) infinite;\n",
              "  }\n",
              "\n",
              "  @keyframes spin {\n",
              "    0% {\n",
              "      border-color: transparent;\n",
              "      border-bottom-color: var(--fill-color);\n",
              "      border-left-color: var(--fill-color);\n",
              "    }\n",
              "    20% {\n",
              "      border-color: transparent;\n",
              "      border-left-color: var(--fill-color);\n",
              "      border-top-color: var(--fill-color);\n",
              "    }\n",
              "    30% {\n",
              "      border-color: transparent;\n",
              "      border-left-color: var(--fill-color);\n",
              "      border-top-color: var(--fill-color);\n",
              "      border-right-color: var(--fill-color);\n",
              "    }\n",
              "    40% {\n",
              "      border-color: transparent;\n",
              "      border-right-color: var(--fill-color);\n",
              "      border-top-color: var(--fill-color);\n",
              "    }\n",
              "    60% {\n",
              "      border-color: transparent;\n",
              "      border-right-color: var(--fill-color);\n",
              "    }\n",
              "    80% {\n",
              "      border-color: transparent;\n",
              "      border-right-color: var(--fill-color);\n",
              "      border-bottom-color: var(--fill-color);\n",
              "    }\n",
              "    90% {\n",
              "      border-color: transparent;\n",
              "      border-bottom-color: var(--fill-color);\n",
              "    }\n",
              "  }\n",
              "</style>\n",
              "\n",
              "  <script>\n",
              "    async function quickchart(key) {\n",
              "      const quickchartButtonEl =\n",
              "        document.querySelector('#' + key + ' button');\n",
              "      quickchartButtonEl.disabled = true;  // To prevent multiple clicks.\n",
              "      quickchartButtonEl.classList.add('colab-df-spinner');\n",
              "      try {\n",
              "        const charts = await google.colab.kernel.invokeFunction(\n",
              "            'suggestCharts', [key], {});\n",
              "      } catch (error) {\n",
              "        console.error('Error during call to suggestCharts:', error);\n",
              "      }\n",
              "      quickchartButtonEl.classList.remove('colab-df-spinner');\n",
              "      quickchartButtonEl.classList.add('colab-df-quickchart-complete');\n",
              "    }\n",
              "    (() => {\n",
              "      let quickchartButtonEl =\n",
              "        document.querySelector('#df-87f60f6c-96f8-4b9e-a31b-a4411ca7df5c button');\n",
              "      quickchartButtonEl.style.display =\n",
              "        google.colab.kernel.accessAllowed ? 'block' : 'none';\n",
              "    })();\n",
              "  </script>\n",
              "</div>\n",
              "    </div>\n",
              "  </div>\n"
            ]
          },
          "metadata": {},
          "execution_count": 6
        }
      ]
    },
    {
      "cell_type": "markdown",
      "source": [
        "Size is:"
      ],
      "metadata": {
        "id": "_Hmuy4VNQ86e"
      }
    },
    {
      "cell_type": "code",
      "source": [
        "data.size"
      ],
      "metadata": {
        "colab": {
          "base_uri": "https://localhost:8080/"
        },
        "id": "qFcUMbAvO7fL",
        "outputId": "77c13642-cfec-4817-d7f9-4262ef1f2099"
      },
      "execution_count": null,
      "outputs": [
        {
          "output_type": "execute_result",
          "data": {
            "text/plain": [
              "300000"
            ]
          },
          "metadata": {},
          "execution_count": 7
        }
      ]
    },
    {
      "cell_type": "markdown",
      "source": [
        "We need to know column names"
      ],
      "metadata": {
        "id": "SHZUXG_MQ_fN"
      }
    },
    {
      "cell_type": "code",
      "source": [
        "data.columns.tolist()"
      ],
      "metadata": {
        "colab": {
          "base_uri": "https://localhost:8080/"
        },
        "id": "4o65oJxlQ-1k",
        "outputId": "eaf2431d-b637-46f7-f4bb-7439a5377228"
      },
      "execution_count": null,
      "outputs": [
        {
          "output_type": "execute_result",
          "data": {
            "text/plain": [
              "['5',\n",
              " \"dr. goldberg offers everything i look for in a general practitioner.  he's nice and easy to talk to without being patronizing; he's always on time in seeing his patients; he's affiliated with a top-notch hospital (nyu) which my parents have explained to me is very important in case something happens and you need surgery; and you can get referrals to see specialists without having to see him first.  really, what more do you need?  i'm sitting here trying to think of any complaints i have about him, but i'm really drawing a blank.\"]"
            ]
          },
          "metadata": {},
          "execution_count": 8
        }
      ]
    },
    {
      "cell_type": "markdown",
      "source": [
        "Column name with texts, looks strange, but we use it, cos there is texts"
      ],
      "metadata": {
        "id": "FkbvgxWDReQ_"
      }
    },
    {
      "cell_type": "code",
      "source": [
        "label_column, text_column = data.columns.tolist()"
      ],
      "metadata": {
        "id": "e_9lL08iRm0h"
      },
      "execution_count": null,
      "outputs": []
    },
    {
      "cell_type": "code",
      "source": [
        "dls = TextDataLoaders.from_df(\n",
        "    df=data,\n",
        "    text_col=text_column,\n",
        "    label_col=label_column\n",
        ")"
      ],
      "metadata": {
        "colab": {
          "base_uri": "https://localhost:8080/",
          "height": 17
        },
        "id": "7J6sn8dMPdeW",
        "outputId": "fa47875f-eb09-4b7d-a9c7-05985d80131a"
      },
      "execution_count": null,
      "outputs": [
        {
          "output_type": "display_data",
          "data": {
            "text/plain": [
              "<IPython.core.display.HTML object>"
            ],
            "text/html": [
              "\n",
              "<style>\n",
              "    /* Turns off some styling */\n",
              "    progress {\n",
              "        /* gets rid of default border in Firefox and Opera. */\n",
              "        border: none;\n",
              "        /* Needs to be in here for Safari polyfill so background images work as expected. */\n",
              "        background-size: auto;\n",
              "    }\n",
              "    progress:not([value]), progress:not([value])::-webkit-progress-bar {\n",
              "        background: repeating-linear-gradient(45deg, #7e7e7e, #7e7e7e 10px, #5c5c5c 10px, #5c5c5c 20px);\n",
              "    }\n",
              "    .progress-bar-interrupted, .progress-bar-interrupted::-webkit-progress-bar {\n",
              "        background: #F44336;\n",
              "    }\n",
              "</style>\n"
            ]
          },
          "metadata": {}
        },
        {
          "output_type": "display_data",
          "data": {
            "text/plain": [
              "<IPython.core.display.HTML object>"
            ],
            "text/html": []
          },
          "metadata": {}
        }
      ]
    },
    {
      "cell_type": "markdown",
      "source": [
        "Save it, to next time, just load it, instead of tokenize again.\n",
        "\n",
        "Doesn't work first method, used from torch"
      ],
      "metadata": {
        "id": "T2S9wcpgSuqj"
      }
    },
    {
      "cell_type": "code",
      "source": [
        "# dls.save('default.pkl')\n",
        "# dls = load_data(path)\n",
        "\n",
        "torch.save(dls, 'default.pkl')"
      ],
      "metadata": {
        "id": "FJL0UGBTRyIW"
      },
      "execution_count": null,
      "outputs": []
    },
    {
      "cell_type": "markdown",
      "source": [
        "Check on what device are we does it (is CPU are TPU?)"
      ],
      "metadata": {
        "id": "hkZcvkPchmKS"
      }
    },
    {
      "cell_type": "code",
      "source": [
        "dls.device"
      ],
      "metadata": {
        "colab": {
          "base_uri": "https://localhost:8080/"
        },
        "id": "vOcw0SbIhjEq",
        "outputId": "739ae6c8-dde2-4302-ee93-a85013592092"
      },
      "execution_count": null,
      "outputs": [
        {
          "output_type": "execute_result",
          "data": {
            "text/plain": [
              "device(type='cuda', index=0)"
            ]
          },
          "metadata": {},
          "execution_count": 12
        }
      ]
    },
    {
      "cell_type": "code",
      "source": [
        "dls.show_batch()"
      ],
      "metadata": {
        "colab": {
          "base_uri": "https://localhost:8080/",
          "height": 1000
        },
        "id": "122PRzK-Sp7Z",
        "outputId": "a3bcb353-d8e4-46b1-dd8c-5babe7542fab"
      },
      "execution_count": null,
      "outputs": [
        {
          "output_type": "display_data",
          "data": {
            "text/plain": [
              "<IPython.core.display.HTML object>"
            ],
            "text/html": [
              "<table border=\"1\" class=\"dataframe\">\n",
              "  <thead>\n",
              "    <tr style=\"text-align: right;\">\n",
              "      <th></th>\n",
              "      <th>text</th>\n",
              "      <th>category</th>\n",
              "    </tr>\n",
              "  </thead>\n",
              "  <tbody>\n",
              "    <tr>\n",
              "      <th>0</th>\n",
              "      <td>xxbos a xxup note xxup to xxup the xxup owner : \\n xxmaj your employee , the scrawny , balding man , should be fired . \\n xxmaj he was yelling at me and saying extremely rude things instead of fixing the nails to make the customer happy . xxmaj i 've never been treated this way by any company that xxmaj i 've ever done business with . i urge you to take a few moments to read about what happened from the customer 's point of view , as xxmaj i 'm sure that you may hear about it but from a different light that is favorable to the scrawny , balding man . \\n\\n xxup my xxup review : xxmaj they should n't even get xxup one xxup star . xxmaj the scrawny man with the receding hair that works there is the ultimate cause of this</td>\n",
              "      <td>1</td>\n",
              "    </tr>\n",
              "    <tr>\n",
              "      <th>1</th>\n",
              "      <td>xxbos xxmaj i 've been coming to this place since xxmaj i 've moved to xxup az about 10 years ago . i ate here so often that at one point i was a \" mayor \" on foursquare and \" duchess \" on xxmaj yelp ! xxmaj they 've changed ownership twice since 10 years ago , and the new one took over about 4 - 5 years ago i believe . xxmaj their food 's ok , but the best thing on the menu is their kimchi jjigae . xxmaj that 's the reason why i came here all those times and i do n't even touch their banchan , because it 's so subpar compared to xxup la , xxup sf , or xxup nyc that it 's laughable . xxmaj their xxmaj soon xxmaj tofu is average and the xxmaj kalbi is average as well .</td>\n",
              "      <td>1</td>\n",
              "    </tr>\n",
              "    <tr>\n",
              "      <th>2</th>\n",
              "      <td>xxbos xxmaj wanted : atmosphere , good wine and decent food for xxmaj sunday xxunk dinner . \\n xxmaj received : expensive place , mediocre wine and salty , processed food in a place that looked like it had seen better days . \\n\\n i will start out and say we had the nicest staff ! xxmaj no complaints at all on our service ! i feel bad that they have to serve this food in this place and try to do it with a smile . i do n't think i could ( and i have worked food for years ) \\n\\n xxmaj we called on the off chance xxmaj chianti 's would be open on a xxmaj xxunk and they were ( though they will be closing xxmaj sun and xxmaj mon for \" the season \" starting next week . i did n't realize there was a</td>\n",
              "      <td>2</td>\n",
              "    </tr>\n",
              "    <tr>\n",
              "      <th>3</th>\n",
              "      <td>xxbos xxmaj nope … \\n\\n xxmaj not going to give anything more than 1 star . xxmaj it 's the challenge of giving no review vs. giving 1 star . \\n\\n i returned to this xxmaj thai xxmaj basil . xxmaj while they have managed to clean up the dust and dirt i saw previously , the wait , the poor presentation of the food i ordered and the lack of any feeling of care from the staff have me not returning to this xxmaj thai xxmaj basil location . \\n\\n i waited at the entrance in front of the ' please wait to be seated ' sign for 5 minutes . xxmaj at 4 xxup pm , there were 3 tables seated . 2 were well into their meals and one appeared to be ready to place their order . xxmaj the hostess who finally came to seat me</td>\n",
              "      <td>1</td>\n",
              "    </tr>\n",
              "    <tr>\n",
              "      <th>4</th>\n",
              "      <td>xxbos xxmaj i 'm in the market for a good place to become a regular so i tried here its close to where i work so i tried . i went in for a pedi and a gel mani and a brow wax , with my friend who also wanted all the same services besides the wax we were both seated at the same time starting with our pedis . \\n\\n xxmaj my experience - the xxmaj woman who did my pedi was great talked , and friendly she was great . i stand all day and it showed on my feet , she removed every callus and did everything that went with the ultimate pedi polished my toes great ! xxmaj then the ladies switched my lady went to do my friends gel mani and i went to do my brows with the lady that had just worked on</td>\n",
              "      <td>1</td>\n",
              "    </tr>\n",
              "    <tr>\n",
              "      <th>5</th>\n",
              "      <td>xxbos i have to preface this review with two factors . xxmaj one , i moved here from xxmaj south xxmaj florida , where the best burgers in town came from your average diners . xxmaj they were the last bastion of xxmaj american food in xxmaj south xxmaj florida , so they served up xxup real xxmaj american food . xxmaj if you wanted a real burger , you went to a diner . xxmaj after returning to xxmaj pittsburgh , i found that every diner here has turned to serving up those frozen gray hockey puck patties and passing them off as burgers . \\n\\n xxmaj second , ( until the recent explosion of good burger joints in da burgh ) , i actually xxup had been a fan of xxmaj tessaro 's , until their hostess / manager flat out offended the hell out of me and</td>\n",
              "      <td>2</td>\n",
              "    </tr>\n",
              "    <tr>\n",
              "      <th>6</th>\n",
              "      <td>xxbos xxmaj georgetowne xxmaj inn is a style , culinary and service abomination . xxmaj located at the top of xxmaj mt . xxmaj washington , it is perfectly situated for beautiful , romantic meals that should highlight all the wonderful things about xxmaj pittsburgh . xxmaj instead , it plays into all the old stereotypes some have about xxmaj pittsburgh and xxmaj pittsburgh food scene . \\n\\n xxmaj entrance : xxmaj parking can be difficult on xxmaj mt . xxmaj washington on weekend nights , so we paid the $ 5 valet service fee . xxmaj no biggie , right , because we 're about to have a great meal . xxmaj besides who wants to walk 5 blocks in dress clothes , because xxmaj georgetowne xxmaj inn is \" dressy . \" xxmaj oh , wait , it 's actually not dressy . xxmaj the hostess was wearing</td>\n",
              "      <td>1</td>\n",
              "    </tr>\n",
              "    <tr>\n",
              "      <th>7</th>\n",
              "      <td>xxbos xxmaj there are no shortage of places to drink in the xxmaj east xxmaj end , so xxmaj i 'm not clear on why i would ever return to a place where the bartender treated me like garbage for no apparent reason . \\n\\n xxmaj my experience here was a short but admittedly eventful one . i and a group of co - workers stopped in after hosting a visiting speaker for dinner at xxmaj bangkok xxmaj balcony right next door . xxmaj the downstairs was not super crowded , but there was no table large enough for everyone in our group . xxmaj the friendly waitress agreed to open the upstairs for us . xxmaj after she brought our round of beers , myself and a colleague realized she had n't brought us pint glasses for our porters ( generally not a beer you want to drink out</td>\n",
              "      <td>1</td>\n",
              "    </tr>\n",
              "    <tr>\n",
              "      <th>8</th>\n",
              "      <td>xxbos xxmaj nope , nope , nope . \\n\\n i came here on the recommendation of other fellow xxmaj yelpers and i am so disappointed . \\n\\n xxmaj firstly , parking is a mess . xxmaj next , i came with my husband and two year old daughter and the hostess told me that they do n't have a high chair that can accommodate a two year old so she had to use a booster seat . xxmaj the problem is that she 's at that middle age where she 's almost done with high chairs and still too immature for a booster seat . xxmaj what a mess trying to keep her in her booster seat and contained . xxmaj she was n't noisy or badly behaved , per se , she just wanted to stand up in the booth and look around and xxunk with all the condiment</td>\n",
              "      <td>2</td>\n",
              "    </tr>\n",
              "  </tbody>\n",
              "</table>"
            ]
          },
          "metadata": {}
        }
      ]
    },
    {
      "cell_type": "markdown",
      "source": [
        "accuracy - Вычисление точности с помощью targ, когда pred равно bs * n_classes\n",
        "\n",
        "Perplexity - экспонента потери перекрестной энтропии"
      ],
      "metadata": {
        "id": "rFUH1gp8ZYb8"
      }
    },
    {
      "cell_type": "code",
      "source": [
        "learn = text_classifier_learner(\n",
        "    dls=dls,\n",
        "    arch=AWD_LSTM,\n",
        "    drop_mult=0.5,\n",
        "    metrics=accuracy\n",
        ")"
      ],
      "metadata": {
        "colab": {
          "base_uri": "https://localhost:8080/",
          "height": 37
        },
        "id": "C24UvN5OTWcR",
        "outputId": "7746ff37-994c-4884-a9a1-fb9492253b17"
      },
      "execution_count": null,
      "outputs": [
        {
          "output_type": "display_data",
          "data": {
            "text/plain": [
              "<IPython.core.display.HTML object>"
            ],
            "text/html": [
              "\n",
              "<style>\n",
              "    /* Turns off some styling */\n",
              "    progress {\n",
              "        /* gets rid of default border in Firefox and Opera. */\n",
              "        border: none;\n",
              "        /* Needs to be in here for Safari polyfill so background images work as expected. */\n",
              "        background-size: auto;\n",
              "    }\n",
              "    progress:not([value]), progress:not([value])::-webkit-progress-bar {\n",
              "        background: repeating-linear-gradient(45deg, #7e7e7e, #7e7e7e 10px, #5c5c5c 10px, #5c5c5c 20px);\n",
              "    }\n",
              "    .progress-bar-interrupted, .progress-bar-interrupted::-webkit-progress-bar {\n",
              "        background: #F44336;\n",
              "    }\n",
              "</style>\n"
            ]
          },
          "metadata": {}
        },
        {
          "output_type": "display_data",
          "data": {
            "text/plain": [
              "<IPython.core.display.HTML object>"
            ],
            "text/html": [
              "\n",
              "    <div>\n",
              "      <progress value='105070592' class='' max='105067061' style='width:300px; height:20px; vertical-align: middle;'></progress>\n",
              "      100.00% [105070592/105067061 00:02&lt;00:00]\n",
              "    </div>\n",
              "    "
            ]
          },
          "metadata": {}
        }
      ]
    },
    {
      "cell_type": "code",
      "source": [
        "learn.fine_tune(4, 1e-2)"
      ],
      "metadata": {
        "colab": {
          "base_uri": "https://localhost:8080/",
          "height": 380
        },
        "id": "ImUweZ6bT6wP",
        "outputId": "a2182894-9d85-4e7d-964a-4e165d9eba67"
      },
      "execution_count": null,
      "outputs": [
        {
          "data": {
            "text/html": [
              "\n",
              "<style>\n",
              "    /* Turns off some styling */\n",
              "    progress {\n",
              "        /* gets rid of default border in Firefox and Opera. */\n",
              "        border: none;\n",
              "        /* Needs to be in here for Safari polyfill so background images work as expected. */\n",
              "        background-size: auto;\n",
              "    }\n",
              "    progress:not([value]), progress:not([value])::-webkit-progress-bar {\n",
              "        background: repeating-linear-gradient(45deg, #7e7e7e, #7e7e7e 10px, #5c5c5c 10px, #5c5c5c 20px);\n",
              "    }\n",
              "    .progress-bar-interrupted, .progress-bar-interrupted::-webkit-progress-bar {\n",
              "        background: #F44336;\n",
              "    }\n",
              "</style>\n"
            ],
            "text/plain": [
              "<IPython.core.display.HTML object>"
            ]
          },
          "metadata": {},
          "output_type": "display_data"
        },
        {
          "data": {
            "text/html": [
              "<table border=\"1\" class=\"dataframe\">\n",
              "  <thead>\n",
              "    <tr style=\"text-align: left;\">\n",
              "      <th>epoch</th>\n",
              "      <th>train_loss</th>\n",
              "      <th>valid_loss</th>\n",
              "      <th>accuracy</th>\n",
              "      <th>time</th>\n",
              "    </tr>\n",
              "  </thead>\n",
              "  <tbody>\n",
              "    <tr>\n",
              "      <td>0</td>\n",
              "      <td>1.251443</td>\n",
              "      <td>1.143428</td>\n",
              "      <td>0.499367</td>\n",
              "      <td>06:25</td>\n",
              "    </tr>\n",
              "  </tbody>\n",
              "</table>"
            ],
            "text/plain": [
              "<IPython.core.display.HTML object>"
            ]
          },
          "metadata": {},
          "output_type": "display_data"
        },
        {
          "data": {
            "text/html": [
              "\n",
              "<style>\n",
              "    /* Turns off some styling */\n",
              "    progress {\n",
              "        /* gets rid of default border in Firefox and Opera. */\n",
              "        border: none;\n",
              "        /* Needs to be in here for Safari polyfill so background images work as expected. */\n",
              "        background-size: auto;\n",
              "    }\n",
              "    progress:not([value]), progress:not([value])::-webkit-progress-bar {\n",
              "        background: repeating-linear-gradient(45deg, #7e7e7e, #7e7e7e 10px, #5c5c5c 10px, #5c5c5c 20px);\n",
              "    }\n",
              "    .progress-bar-interrupted, .progress-bar-interrupted::-webkit-progress-bar {\n",
              "        background: #F44336;\n",
              "    }\n",
              "</style>\n"
            ],
            "text/plain": [
              "<IPython.core.display.HTML object>"
            ]
          },
          "metadata": {},
          "output_type": "display_data"
        },
        {
          "data": {
            "text/html": [
              "\n",
              "    <div>\n",
              "      <progress value='2' class='' max='4' style='width:300px; height:20px; vertical-align: middle;'></progress>\n",
              "      50.00% [2/4 32:12&lt;32:12]\n",
              "    </div>\n",
              "    \n",
              "<table border=\"1\" class=\"dataframe\">\n",
              "  <thead>\n",
              "    <tr style=\"text-align: left;\">\n",
              "      <th>epoch</th>\n",
              "      <th>train_loss</th>\n",
              "      <th>valid_loss</th>\n",
              "      <th>accuracy</th>\n",
              "      <th>time</th>\n",
              "    </tr>\n",
              "  </thead>\n",
              "  <tbody>\n",
              "    <tr>\n",
              "      <td>0</td>\n",
              "      <td>0.943040</td>\n",
              "      <td>0.920920</td>\n",
              "      <td>0.594967</td>\n",
              "      <td>16:06</td>\n",
              "    </tr>\n",
              "    <tr>\n",
              "      <td>1</td>\n",
              "      <td>0.884007</td>\n",
              "      <td>0.865785</td>\n",
              "      <td>0.614200</td>\n",
              "      <td>16:06</td>\n",
              "    </tr>\n",
              "  </tbody>\n",
              "</table><p>\n",
              "\n",
              "    <div>\n",
              "      <progress value='1070' class='' max='1875' style='width:300px; height:20px; vertical-align: middle;'></progress>\n",
              "      57.07% [1070/1875 08:23&lt;06:18 0.8193]\n",
              "    </div>\n",
              "    "
            ],
            "text/plain": [
              "<IPython.core.display.HTML object>"
            ]
          },
          "metadata": {},
          "output_type": "display_data"
        },
        {
          "output_type": "display_data",
          "data": {
            "text/plain": [
              "<IPython.core.display.HTML object>"
            ],
            "text/html": [
              "<table border=\"1\" class=\"dataframe\">\n",
              "  <thead>\n",
              "    <tr style=\"text-align: left;\">\n",
              "      <th>epoch</th>\n",
              "      <th>train_loss</th>\n",
              "      <th>valid_loss</th>\n",
              "      <th>accuracy</th>\n",
              "      <th>time</th>\n",
              "    </tr>\n",
              "  </thead>\n",
              "  <tbody>\n",
              "    <tr>\n",
              "      <td>0</td>\n",
              "      <td>0.943040</td>\n",
              "      <td>0.920920</td>\n",
              "      <td>0.594967</td>\n",
              "      <td>16:06</td>\n",
              "    </tr>\n",
              "    <tr>\n",
              "      <td>1</td>\n",
              "      <td>0.884007</td>\n",
              "      <td>0.865785</td>\n",
              "      <td>0.614200</td>\n",
              "      <td>16:06</td>\n",
              "    </tr>\n",
              "    <tr>\n",
              "      <td>2</td>\n",
              "      <td>0.804150</td>\n",
              "      <td>0.790552</td>\n",
              "      <td>0.655333</td>\n",
              "      <td>16:05</td>\n",
              "    </tr>\n",
              "    <tr>\n",
              "      <td>3</td>\n",
              "      <td>0.738590</td>\n",
              "      <td>0.797883</td>\n",
              "      <td>0.656033</td>\n",
              "      <td>16:07</td>\n",
              "    </tr>\n",
              "  </tbody>\n",
              "</table>"
            ]
          },
          "metadata": {}
        }
      ]
    },
    {
      "cell_type": "code",
      "source": [
        "learn.save('learn_on_accuracy')"
      ],
      "metadata": {
        "colab": {
          "base_uri": "https://localhost:8080/"
        },
        "id": "6qK8gA1imnJV",
        "outputId": "b83c96eb-3dc7-4064-f185-2b393cbdda5c"
      },
      "execution_count": null,
      "outputs": [
        {
          "output_type": "execute_result",
          "data": {
            "text/plain": [
              "Path('models/learn_on_accuracy.pth')"
            ]
          },
          "metadata": {},
          "execution_count": 18
        }
      ]
    },
    {
      "cell_type": "code",
      "source": [
        "learn.show_results()"
      ],
      "metadata": {
        "colab": {
          "base_uri": "https://localhost:8080/",
          "height": 1000
        },
        "id": "M-uRaKGyUiR0",
        "outputId": "c3776da8-639c-40e6-bd00-7d2bb42be5fc"
      },
      "execution_count": null,
      "outputs": [
        {
          "output_type": "display_data",
          "data": {
            "text/plain": [
              "<IPython.core.display.HTML object>"
            ],
            "text/html": [
              "\n",
              "<style>\n",
              "    /* Turns off some styling */\n",
              "    progress {\n",
              "        /* gets rid of default border in Firefox and Opera. */\n",
              "        border: none;\n",
              "        /* Needs to be in here for Safari polyfill so background images work as expected. */\n",
              "        background-size: auto;\n",
              "    }\n",
              "    progress:not([value]), progress:not([value])::-webkit-progress-bar {\n",
              "        background: repeating-linear-gradient(45deg, #7e7e7e, #7e7e7e 10px, #5c5c5c 10px, #5c5c5c 20px);\n",
              "    }\n",
              "    .progress-bar-interrupted, .progress-bar-interrupted::-webkit-progress-bar {\n",
              "        background: #F44336;\n",
              "    }\n",
              "</style>\n"
            ]
          },
          "metadata": {}
        },
        {
          "output_type": "display_data",
          "data": {
            "text/plain": [
              "<IPython.core.display.HTML object>"
            ],
            "text/html": []
          },
          "metadata": {}
        },
        {
          "output_type": "display_data",
          "data": {
            "text/plain": [
              "<IPython.core.display.HTML object>"
            ],
            "text/html": [
              "<table border=\"1\" class=\"dataframe\">\n",
              "  <thead>\n",
              "    <tr style=\"text-align: right;\">\n",
              "      <th></th>\n",
              "      <th>text</th>\n",
              "      <th>category</th>\n",
              "      <th>category_</th>\n",
              "    </tr>\n",
              "  </thead>\n",
              "  <tbody>\n",
              "    <tr>\n",
              "      <th>0</th>\n",
              "      <td>xxbos xxmaj wow , this place is a xxup complete xxup scam &amp; please do n't waste your time here . xxmaj talk about xxup substandard xxup service &amp; a xxup business xxup who xxup only xxup cares xxup about xxup collecting xxup money ! i rarely even leave reviews but my experience was xxup so xxup awful &amp; xxup unprofessional with such xxup horrible &amp; xxup unprofessional service i felt i had to let others know not to waste their money here .. \\n\\n▁ xxmaj the owner claims to have years of experience &amp; done thousands of resumes , but all your time in the beginning in spent with her assistant , as she simply introduced herself &amp; disappeared for the entire 2 hours that my initial appt ended up running . \\n\\n▁ xxmaj they insist you need a more fancy resume package once they have you in their</td>\n",
              "      <td>1</td>\n",
              "      <td>1</td>\n",
              "    </tr>\n",
              "    <tr>\n",
              "      <th>1</th>\n",
              "      <td>xxbos xxmaj beware , it 's cheap for a reason . xxmaj at it 's best , it mediocre , at it 's worst , it 's complete garbage . xxmaj i 've been here several times , but this will be the last . \\n\\n xxmaj let 's start with check - in . xxmaj they never have enough people at the check in desk , so enjoy a long wait . xxmaj also , if you booked a king bed , be prepared to fight for it as they never have any . xxmaj they pull this : \\n\\n xxmaj clerk : xxmaj you wanted non - smoking ? \\n xxmaj me : xxmaj yes \\n xxmaj clerk : xxmaj we have no more kings in non - smoking . \\n xxmaj me : xxmaj fine , smoking then . \\n xxmaj clerk : xxmaj oh , we</td>\n",
              "      <td>2</td>\n",
              "      <td>1</td>\n",
              "    </tr>\n",
              "    <tr>\n",
              "      <th>2</th>\n",
              "      <td>xxbos xxmaj it 's in a real crappy part of town . xxmaj prostitutes and xxmaj drug dealers galore , only thing that breaks the scenery is stepping over the homeless ! xxmaj so , the location may not be something that xxmaj harrie 's can control , but their service xxup is . xxmaj my husband , visited the store earlier this morning to get our family breakfast . i am newly pregnant and was craving a lox and cream cheese bagel with the traditional tomato and lettuce . xxmaj he arrives home with a lox cream cheese xxup spread ( not even a slice of lox … they say they are like a real xxup ny xxmaj bagel xxmaj place , having been to xxup ny several times , and having loved ones their , i xxup know that the spread is the kiss of failure in a</td>\n",
              "      <td>1</td>\n",
              "      <td>1</td>\n",
              "    </tr>\n",
              "    <tr>\n",
              "      <th>3</th>\n",
              "      <td>xxbos xxmaj oh my dear lord . xxmaj this place man . xxmaj when i think of xxmaj vegas i think of a xxmaj disneyland for adults . i mean there are people who are out on the strip night and day handing out cards with naked women on them . xxmaj this place is called xxmaj sin xxmaj city for a reason and with all the places you can take your kids on vacation in the world i would suggest avoiding xxmaj las xxmaj vegas . xxmaj well most adults ( with a brain in their head ) feel that way but i have some sad news folks , according to xxmaj mary the xxmaj manager of xxmaj guest xxmaj services at xxmaj the xxmaj excalibur they only care about catering to families with kids and making concessions and accommodations for them . xxmaj if you are apart of</td>\n",
              "      <td>2</td>\n",
              "      <td>2</td>\n",
              "    </tr>\n",
              "    <tr>\n",
              "      <th>4</th>\n",
              "      <td>xxbos xxmaj this one is really hard . \\n\\n xxmaj based on other xxmaj yelp reviews , i went to xxmaj eliana 's to pick up lunch last week . xxmaj it 's close to my work , and it sounded like such a nice departure from my usual lunchtime rounds . xxmaj this past weekend , my boyfriend and i went to dinner there , because i thought it deserved a second try . xxmaj i 'll tell you a little about both experiences . \\n\\n xxmaj after perusing all of the ( mostly ) helpful and honest reviews here , i really psyched myself out about giving it a try and just xxup had to go there for takeout that xxup very xxup same xxup day - xxmaj i 'm not a delayed gratification kind of person , despite my best efforts . i ended up at the</td>\n",
              "      <td>2</td>\n",
              "      <td>3</td>\n",
              "    </tr>\n",
              "    <tr>\n",
              "      <th>5</th>\n",
              "      <td>xxbos xxup updated : xxmaj just wanted to share that we attempted to visit for a third time when my husband 's brother was in town in mid - november of 2014 . xxmaj we had reservations for 7:30 on a xxmaj tuesday , so we obviously figured we would be seated immediately . xxmaj the brother and his girlfriend arrived a couple minutes before the reservation and were told to go up to the bar while they set the table and wait for the rest of the party . i arrived about a minute after and my husband a few minutes behind me as he needed to park due to the lack of valet during the week . xxmaj there was no one at the host stand when either of us came in . xxmaj so we went up to the bar , declined a drink … and waited</td>\n",
              "      <td>5</td>\n",
              "      <td>2</td>\n",
              "    </tr>\n",
              "    <tr>\n",
              "      <th>6</th>\n",
              "      <td>xxbos xxmaj so if you find yourself north of xxmaj fremont xxmaj street on xxmaj las xxmaj vegas xxmaj blvd ( aka : xxmaj the xxmaj strip ) , you will find a gray area of tourist delights . i say \" gray \" because amidst xxmaj cashman xxmaj field , the new xxmaj neon xxmaj museum ( a worthy stop - xxup btw ) , and other xxmaj vegas attempts at cultural enrichment you 'll pass a two weekly hotels , two large xxunk , and a massive homeless shelter . xxmaj this area represents itself well as this is the area where you transition from xxmaj las xxmaj vegas city proper into xxmaj north xxmaj las xxmaj vegas . xxmaj the city where one xxmaj dr . xxmaj hunter xxup s. xxmaj thompson once wrote : \" north xxmaj las xxmaj vegas is where you go when you</td>\n",
              "      <td>3</td>\n",
              "      <td>3</td>\n",
              "    </tr>\n",
              "    <tr>\n",
              "      <th>7</th>\n",
              "      <td>xxbos xxmaj we made our trip to xxmaj smoky 's on the recommendation of one of the nice staff at our hotel , who swore that this is where her family has eaten good steak for generations . xxmaj who am i to question the dining habits of xxmaj midwesterners ? i found a description of the place in one of the xxmaj madison free magazines designed for tourists , which focused on independent restaurants , and it sounded like a fun dive , so we went . \\n\\n xxmaj now , a word of advice . xxmaj do n't go out to dinner on a game day in the state capital when the xxmaj badgers have beaten xxmaj michigan xxmaj state to a place that has been around since the xxmaj xxunk administration , where grandfathers who are xxup xxunk xxunk bring their grandkids after the game . xxmaj</td>\n",
              "      <td>2</td>\n",
              "      <td>2</td>\n",
              "    </tr>\n",
              "    <tr>\n",
              "      <th>8</th>\n",
              "      <td>xxbos xxmaj another nightmare of a restaurant , perfect for those that think that a xxmaj california xxmaj roll ( poorly made ) is the height of xxmaj japanese cuisine . \\n\\n xxmaj rumor is that xxmaj xxunk xxmaj xxunk ate here before deciding to kill himself . \\n\\n 1 . xxmaj ambience : xxmaj when you first walk in , you think \" hey , instead of the pretentious bs overpriced xxmaj vegas xxmaj hotel xxmaj japanese restaurant scene , i may have found one of those amazing hole - in - the - wall spots that will be a great authentic experience \" … well , the hole - in - the - wall is right , and in this case , it is just that . \\n\\n xxmaj the restaurant is old , dilapidated , and damn confusing to escape from . xxmaj but if you check</td>\n",
              "      <td>1</td>\n",
              "      <td>1</td>\n",
              "    </tr>\n",
              "  </tbody>\n",
              "</table>"
            ]
          },
          "metadata": {}
        }
      ]
    },
    {
      "cell_type": "markdown",
      "source": [
        "Now we can predict new texts\n",
        "\n"
      ],
      "metadata": {
        "id": "4XMN8MwLUZ84"
      }
    },
    {
      "cell_type": "code",
      "source": [
        "learn.predict(\"I really liked doctor\")"
      ],
      "metadata": {
        "colab": {
          "base_uri": "https://localhost:8080/",
          "height": 35
        },
        "id": "MjLVhQRuUV7c",
        "outputId": "2cb703b5-59a2-4759-dd14-53ce7dcb884f"
      },
      "execution_count": null,
      "outputs": [
        {
          "output_type": "display_data",
          "data": {
            "text/plain": [
              "<IPython.core.display.HTML object>"
            ],
            "text/html": [
              "\n",
              "<style>\n",
              "    /* Turns off some styling */\n",
              "    progress {\n",
              "        /* gets rid of default border in Firefox and Opera. */\n",
              "        border: none;\n",
              "        /* Needs to be in here for Safari polyfill so background images work as expected. */\n",
              "        background-size: auto;\n",
              "    }\n",
              "    progress:not([value]), progress:not([value])::-webkit-progress-bar {\n",
              "        background: repeating-linear-gradient(45deg, #7e7e7e, #7e7e7e 10px, #5c5c5c 10px, #5c5c5c 20px);\n",
              "    }\n",
              "    .progress-bar-interrupted, .progress-bar-interrupted::-webkit-progress-bar {\n",
              "        background: #F44336;\n",
              "    }\n",
              "</style>\n"
            ]
          },
          "metadata": {}
        },
        {
          "output_type": "display_data",
          "data": {
            "text/plain": [
              "<IPython.core.display.HTML object>"
            ],
            "text/html": []
          },
          "metadata": {}
        },
        {
          "output_type": "execute_result",
          "data": {
            "text/plain": [
              "('4', tensor(3), tensor([0.0191, 0.0302, 0.0922, 0.5177, 0.3408]))"
            ]
          },
          "metadata": {},
          "execution_count": 17
        }
      ]
    },
    {
      "cell_type": "code",
      "source": [
        "learn.predict(\"When i was on doctor, it was really weird how he talking with me, I think next time i visit other doctor\")"
      ],
      "metadata": {
        "colab": {
          "base_uri": "https://localhost:8080/",
          "height": 35
        },
        "id": "zaJQf1HX15lP",
        "outputId": "a604b863-b9d3-4b53-a351-b935e9da43c9"
      },
      "execution_count": null,
      "outputs": [
        {
          "output_type": "display_data",
          "data": {
            "text/plain": [
              "<IPython.core.display.HTML object>"
            ],
            "text/html": [
              "\n",
              "<style>\n",
              "    /* Turns off some styling */\n",
              "    progress {\n",
              "        /* gets rid of default border in Firefox and Opera. */\n",
              "        border: none;\n",
              "        /* Needs to be in here for Safari polyfill so background images work as expected. */\n",
              "        background-size: auto;\n",
              "    }\n",
              "    progress:not([value]), progress:not([value])::-webkit-progress-bar {\n",
              "        background: repeating-linear-gradient(45deg, #7e7e7e, #7e7e7e 10px, #5c5c5c 10px, #5c5c5c 20px);\n",
              "    }\n",
              "    .progress-bar-interrupted, .progress-bar-interrupted::-webkit-progress-bar {\n",
              "        background: #F44336;\n",
              "    }\n",
              "</style>\n"
            ]
          },
          "metadata": {}
        },
        {
          "output_type": "display_data",
          "data": {
            "text/plain": [
              "<IPython.core.display.HTML object>"
            ],
            "text/html": []
          },
          "metadata": {}
        },
        {
          "output_type": "execute_result",
          "data": {
            "text/plain": [
              "('3', tensor(2), tensor([0.1000, 0.2371, 0.4054, 0.1847, 0.0727]))"
            ]
          },
          "metadata": {},
          "execution_count": 20
        }
      ]
    },
    {
      "cell_type": "code",
      "source": [
        "learn.predict(\"It was the worst visit\")"
      ],
      "metadata": {
        "colab": {
          "base_uri": "https://localhost:8080/",
          "height": 71
        },
        "id": "TTNM_vSO2Eyo",
        "outputId": "fcc40067-7cc7-43be-961e-ef8117d5c577"
      },
      "execution_count": null,
      "outputs": [
        {
          "output_type": "display_data",
          "data": {
            "text/plain": [
              "<IPython.core.display.HTML object>"
            ],
            "text/html": [
              "\n",
              "<style>\n",
              "    /* Turns off some styling */\n",
              "    progress {\n",
              "        /* gets rid of default border in Firefox and Opera. */\n",
              "        border: none;\n",
              "        /* Needs to be in here for Safari polyfill so background images work as expected. */\n",
              "        background-size: auto;\n",
              "    }\n",
              "    progress:not([value]), progress:not([value])::-webkit-progress-bar {\n",
              "        background: repeating-linear-gradient(45deg, #7e7e7e, #7e7e7e 10px, #5c5c5c 10px, #5c5c5c 20px);\n",
              "    }\n",
              "    .progress-bar-interrupted, .progress-bar-interrupted::-webkit-progress-bar {\n",
              "        background: #F44336;\n",
              "    }\n",
              "</style>\n"
            ]
          },
          "metadata": {}
        },
        {
          "output_type": "display_data",
          "data": {
            "text/plain": [
              "<IPython.core.display.HTML object>"
            ],
            "text/html": []
          },
          "metadata": {}
        },
        {
          "output_type": "execute_result",
          "data": {
            "text/plain": [
              "('1',\n",
              " tensor(0),\n",
              " tensor([9.6215e-01, 3.5394e-02, 1.4914e-03, 1.8891e-04, 7.7889e-04]))"
            ]
          },
          "metadata": {},
          "execution_count": 21
        }
      ]
    },
    {
      "cell_type": "code",
      "source": [],
      "metadata": {
        "id": "TbDSe9hu2Y6w"
      },
      "execution_count": null,
      "outputs": []
    }
  ]
}
